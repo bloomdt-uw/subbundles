{
 "cells": [
  {
   "cell_type": "markdown",
   "metadata": {},
   "source": [
    "# Choosing Number of Clusters"
   ]
  },
  {
   "cell_type": "code",
   "execution_count": null,
   "metadata": {},
   "outputs": [],
   "source": [
    "import os.path\n",
    "import numpy as np\n",
    "import pandas as pd\n",
    "import matplotlib.pyplot as plt\n",
    "import seaborn as sns"
   ]
  },
  {
   "cell_type": "code",
   "execution_count": null,
   "metadata": {},
   "outputs": [],
   "source": [
    "study_name = 'MASE_ChooseK_Study_FA_and_MD'\n",
    "session_name = 'HCP_1200'\n",
    "bundle_name = 'SLF_L'\n",
    "aws_path = f's3://hcp-subbundle/{study_name}/{session_name}/{bundle_name}'\n",
    "model_name = 'mase_kmeans_fa_r2_md_r2_is_mdf'\n",
    "max_n_clusters = 9 # Silhouette Scores\n",
    "best_n_cluster = 2 # Pair plots and Info"
   ]
  },
  {
   "cell_type": "code",
   "execution_count": null,
   "metadata": {},
   "outputs": [],
   "source": [
    "def aws_download(aws_path, endswith_pattern):\n",
    "    aws_files = !aws s3 ls --recursive {aws_path}\n",
    "        \n",
    "    remote_filenames = []\n",
    "    local_filenames = []\n",
    "\n",
    "    for file in aws_files:\n",
    "        if file.split()[3].endswith(endswith_pattern):\n",
    "            remote_filenames.append(file.split()[3])\n",
    "            local_filenames.append(file.split()[3].replace('/', '_'))\n",
    "\n",
    "    for remote_filename, local_filename in zip(remote_filenames, local_filenames):\n",
    "        !aws s3 cp s3://hcp-subbundle/{remote_filename} {local_filename}\n",
    "            \n",
    "    return local_filenames\n",
    "\n",
    "def remove_aws_downloads(local_filenames):\n",
    "    for file in local_filenames:\n",
    "        !rm {file}"
   ]
  },
  {
   "cell_type": "markdown",
   "metadata": {},
   "source": [
    "## Silhouette Scores"
   ]
  },
  {
   "cell_type": "markdown",
   "metadata": {},
   "source": [
    "#### Download Silhouette Scores"
   ]
  },
  {
   "cell_type": "code",
   "execution_count": null,
   "metadata": {},
   "outputs": [],
   "source": [
    "local_silhouette_score_filenames = aws_download(aws_path, f'{max_n_clusters}/{model_name}_silhouette_scores.npy')"
   ]
  },
  {
   "cell_type": "markdown",
   "metadata": {},
   "source": [
    "#### Aggregate Silhouette Scores"
   ]
  },
  {
   "cell_type": "code",
   "execution_count": null,
   "metadata": {},
   "outputs": [],
   "source": [
    "df = pd.DataFrame()\n",
    "\n",
    "subjects = [\n",
    "    '103818', '105923', '111312', '114823', '115320',\n",
    "    '122317', '125525', '130518', '135528', '137128',\n",
    "    '139839', '143325', '144226', '146129', '149337',\n",
    "    '149741', '151526', '158035', '169343', '172332',\n",
    "    '175439', '177746', '185442', '187547', '192439',\n",
    "    '194140', '195041', '200109', '200614', '204521',\n",
    "    '250427', '287248', '341834', '433839', '562345',\n",
    "    '599671', '601127', '627549', '660951', # '662551', \n",
    "    '783462', '859671', '861456', '877168', '917255'\n",
    "]\n",
    "\n",
    "for fname in local_silhouette_score_filenames:\n",
    "    # TODO figure out better way to do this\n",
    "    for subject in subjects:\n",
    "        if subject in fname:\n",
    "            break\n",
    "            \n",
    "    #fname = f'MASE_ChooseK_Study_{session_name}_{bundle_name}_{subject}_{max_n_clusters}_{model_name}_silhouette_scores.npy'\n",
    "    if os.path.exists(fname):\n",
    "        df = df.append(pd.Series(np.load(fname), name=subject))\n",
    "\n",
    "display(df) \n",
    "\n",
    "df1 = pd.melt(frame = df, var_name = 'cluster_number', value_name = 'silhouette_score')\n",
    "\n",
    "# offset column index to correspond to clusters, clusters begin with two\n",
    "df1['cluster_number'] = df1['cluster_number'] + 2\n",
    "\n",
    "fig, ax = plt.subplots()\n",
    "sns.lineplot(ax = ax, data = df1, x='cluster_number', y='silhouette_score', sort=False).set(\n",
    "    title=f'MASE_ChooseK_Study_{session_name}_{bundle_name}\\nn_subjects: {len(df)}'\n",
    ")\n",
    "plt.show()"
   ]
  },
  {
   "cell_type": "markdown",
   "metadata": {},
   "source": [
    "#### Clean up"
   ]
  },
  {
   "cell_type": "code",
   "execution_count": null,
   "metadata": {},
   "outputs": [],
   "source": [
    "remove_aws_downloads(local_silhouette_score_filenames)"
   ]
  },
  {
   "cell_type": "markdown",
   "metadata": {},
   "source": [
    "## Pair Plots\n",
    "\n",
    "`best_n_cluster` is chosen from maximal value in the Aggregate Silhouette Scores"
   ]
  },
  {
   "cell_type": "markdown",
   "metadata": {},
   "source": [
    "There's code to generate an animated gif, but much better/easier to inspect the pairplots individually.\n",
    "\n",
    "Looking for patterns and differences in number of embedded components and number of clusters."
   ]
  },
  {
   "cell_type": "markdown",
   "metadata": {},
   "source": [
    "#### Download Pair Plots"
   ]
  },
  {
   "cell_type": "code",
   "execution_count": null,
   "metadata": {},
   "outputs": [],
   "source": [
    "local_pairplot_filenames = aws_download(aws_path, f'{best_n_cluster}/{model_name}_pairplot.png')"
   ]
  },
  {
   "cell_type": "markdown",
   "metadata": {},
   "source": [
    "#### Create Animated gif of pair plots"
   ]
  },
  {
   "cell_type": "raw",
   "metadata": {},
   "source": [
    "!ffmpeg -framerate 0.5 -pattern_type glob -i '*{bundle_name}*pairplot.png' {bundle_name}_pairplot.gif"
   ]
  },
  {
   "cell_type": "raw",
   "metadata": {},
   "source": [
    "from IPython.display import Image\n",
    "Image(f'{bundle_name}_pairplot.gif')"
   ]
  },
  {
   "cell_type": "raw",
   "metadata": {},
   "source": [
    "!rm {bundle_name}_pairplot.gif"
   ]
  },
  {
   "cell_type": "markdown",
   "metadata": {},
   "source": [
    "#### Clean up"
   ]
  },
  {
   "cell_type": "code",
   "execution_count": null,
   "metadata": {},
   "outputs": [],
   "source": [
    "remove_aws_downloads(local_pairplot_filenames)"
   ]
  },
  {
   "cell_type": "markdown",
   "metadata": {},
   "source": [
    "## Info File"
   ]
  },
  {
   "cell_type": "code",
   "execution_count": null,
   "metadata": {},
   "outputs": [],
   "source": [
    "local_info_filenames = aws_download(aws_path, f'{best_n_cluster}/{model_name}_info.pkl')"
   ]
  },
  {
   "cell_type": "code",
   "execution_count": null,
   "metadata": {},
   "outputs": [],
   "source": [
    "info_dfs = []\n",
    "for local_info_filename in local_info_filenames:\n",
    "    info_dfs.append(pd.read_pickle(local_info_filename))"
   ]
  },
  {
   "cell_type": "code",
   "execution_count": null,
   "metadata": {},
   "outputs": [],
   "source": [
    "info_df = pd.concat(info_dfs)\n",
    "# fix offset issue\n",
    "info_df['n_clusters selected'] = info_df['n_clusters selected'] + 1\n",
    "display(info_df)"
   ]
  },
  {
   "cell_type": "code",
   "execution_count": null,
   "metadata": {},
   "outputs": [],
   "source": [
    "diff = {}\n",
    "for subject, dims, n_cluster in zip(info_df['subject'], info_df['embed dimensions'].tolist(), info_df['n_clusters selected']):\n",
    "    diff[subject] = dims[1]-n_cluster\n",
    "    \n",
    "plt.figure(figsize=(20,5))\n",
    "plt.bar(*zip(*diff.items()))\n",
    "plt.xticks(rotation=45)\n",
    "plt.title(f'MASE_ChooseK_Study_{session_name}_{bundle_name}\\n difference number of components to number of clusters')\n",
    "plt.show()"
   ]
  },
  {
   "cell_type": "code",
   "execution_count": null,
   "metadata": {},
   "outputs": [],
   "source": [
    "remove_aws_downloads(local_info_filenames)"
   ]
  },
  {
   "cell_type": "code",
   "execution_count": null,
   "metadata": {},
   "outputs": [],
   "source": []
  }
 ],
 "metadata": {
  "kernelspec": {
   "display_name": "Python 3",
   "language": "python",
   "name": "python3"
  },
  "language_info": {
   "codemirror_mode": {
    "name": "ipython",
    "version": 3
   },
   "file_extension": ".py",
   "mimetype": "text/x-python",
   "name": "python",
   "nbconvert_exporter": "python",
   "pygments_lexer": "ipython3",
   "version": "3.8.5"
  }
 },
 "nbformat": 4,
 "nbformat_minor": 4
}
