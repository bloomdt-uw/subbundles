{
 "cells": [
  {
   "cell_type": "markdown",
   "metadata": {},
   "source": [
    "Visualzations of subject cluster centriods in MNI"
   ]
  },
  {
   "cell_type": "code",
   "execution_count": null,
   "metadata": {},
   "outputs": [],
   "source": [
    "from identify_subbundles import *\n",
    "from dipy.io.streamline import save_tractogram\n",
    "from dipy.io.stateful_tractogram import StatefulTractogram\n",
    "import AFQ.data as afd\n",
    "from AFQ.utils.streamlines import bundles_to_tgram\n",
    "from AFQ.viz.plotly_backend import visualize_volume, visualize_bundles"
   ]
  },
  {
   "cell_type": "code",
   "execution_count": null,
   "metadata": {},
   "outputs": [],
   "source": [
    "DATA_DIR = DATA_DIRS[0] # HCP_1200; i.e. test session\n",
    "\n",
    "MNI_T2_IMG = afd.read_mni_template()\n",
    "MNI_T2_IMG_DATA = MNI_T2_IMG.get_fdata()\n",
    "\n",
    "BUNDLE_DICT = {\n",
    "    \"SLF_0\" : {\n",
    "        \"uid\" : 0\n",
    "    },\n",
    "    \"SLF_1\" : {\n",
    "        \"uid\" : 1\n",
    "    },\n",
    "    \"SLF_2\" : {\n",
    "        \"uid\" : 2\n",
    "    }\n",
    "}\n",
    "\n",
    "CONSENSUS = '200614' # consensus subject for relabeling strategy"
   ]
  },
  {
   "cell_type": "code",
   "execution_count": null,
   "metadata": {},
   "outputs": [],
   "source": [
    "def save_centroids(centroids, centroids_name):\n",
    "    \"\"\"\n",
    "    save individual tractogram files for each subject cluster centroid\n",
    "    \n",
    "    Parameters\n",
    "    ----------\n",
    "    centroids : dict\n",
    "    \n",
    "    centroids_name : string\n",
    "    \"\"\"\n",
    "    for subject in centroids.keys():\n",
    "        cluster_id = 0\n",
    "        for cluster_centroid in centroids[subject]:\n",
    "            save_tractogram(cluster_centroid, f'{subject}_{cluster_id}_centroid_{centroids_name}.trk')\n",
    "            cluster_id += 1\n",
    "            \n",
    "# save_centroids(prealignment_centroids, \"prealignment\")\n",
    "# save_centroids(mni_prealignment_centroids, \"MNI_prealignment\")"
   ]
  },
  {
   "cell_type": "code",
   "execution_count": null,
   "metadata": {},
   "outputs": [],
   "source": [
    "def convert_centroids(mni_centroids):\n",
    "    \"\"\"\n",
    "    create tractogram for each mni cluster containing all subjects\n",
    "    \n",
    "    Parameters\n",
    "    ----------\n",
    "    mni_centroids : dict\n",
    "    \"\"\"\n",
    "    \n",
    "    clusters = [[],[],[]]\n",
    "\n",
    "    for subject in mni_centroids.keys():\n",
    "        cluster_id = 0\n",
    "        for cluster_centroid in mni_centroids[subject]:\n",
    "            clusters[cluster_id].append(cluster_centroid.streamlines[0])\n",
    "            cluster_id += 1\n",
    "\n",
    "    # any subject/tractogram will do, so just grab first one\n",
    "    subject = next(iter(mni_centroids))\n",
    "    tractogram = mni_centroids[subject][0]\n",
    "    \n",
    "    bundles = {\n",
    "        \"SLF_0\": StatefulTractogram.from_sft(clusters[0], tractogram), \n",
    "        \"SLF_1\": StatefulTractogram.from_sft(clusters[1], tractogram),\n",
    "        \"SLF_2\": StatefulTractogram.from_sft(clusters[2], tractogram)\n",
    "    }\n",
    "        \n",
    "    sft = bundles_to_tgram(bundles, BUNDLE_DICT, MNI_T2_IMG)\n",
    "    \n",
    "    return sft"
   ]
  },
  {
   "cell_type": "code",
   "execution_count": null,
   "metadata": {},
   "outputs": [],
   "source": [
    "def visualize_centriods(sft):\n",
    "    \"\"\"\n",
    "    plotly visualzation for clusters using MNI space\n",
    "    \n",
    "    Parameters\n",
    "    ----------\n",
    "    sft : StatefulTractogram\n",
    "    \"\"\"\n",
    "    figure = visualize_volume(\n",
    "        MNI_T2_IMG_DATA,\n",
    "        interact = False,\n",
    "        inline = False\n",
    "    )\n",
    "    # John's PR 641\n",
    "    # visualize_bundles(sft, flip_axial=False, bundle_dict=bundle_dict, figure=figure)\n",
    "    return visualize_bundles(sft, bundle_dict=BUNDLE_DICT, figure=figure)"
   ]
  },
  {
   "cell_type": "code",
   "execution_count": null,
   "metadata": {},
   "outputs": [],
   "source": [
    "def visualize_subject_clusters(subject, centroids):\n",
    "    \"\"\"\n",
    "    take the subject and show the centroid for each cluster\n",
    "    \n",
    "    Parameters\n",
    "    ----------\n",
    "    subject : string\n",
    "    \n",
    "    centroids : dict\n",
    "    \"\"\"\n",
    "    clusters = []\n",
    "    for cluster_centroid in centroids[subject]:\n",
    "        clusters.append(cluster_centroid.streamlines[0])\n",
    "    \n",
    "    sft = StatefulTractogram.from_sft(clusters, cluster_centroid)\n",
    "    return visualize_centriods(sft)"
   ]
  },
  {
   "cell_type": "code",
   "execution_count": null,
   "metadata": {},
   "outputs": [],
   "source": [
    "prealign_centroids = prealignment_centroids(BASE_DIR, DATA_DIR, MODEL_NAME, SUBJECTS, BUNDLE_NAME)\n",
    "mni_prealign_centroids = move_centriods_to_MNI(DATA_DIR, SUBJECTS, prealign_centroids)"
   ]
  },
  {
   "cell_type": "markdown",
   "metadata": {},
   "source": [
    "#### Show Consensus subject centroids"
   ]
  },
  {
   "cell_type": "code",
   "execution_count": null,
   "metadata": {},
   "outputs": [],
   "source": [
    "visualize_subject_clusters(CONSENSUS, mni_prealign_centroids)\n",
    "# visualize_subject_clusters('877168', mni_prealign_centroids)"
   ]
  },
  {
   "cell_type": "markdown",
   "metadata": {},
   "source": [
    "#### Cluster Centroids Labeled by Streamline Count"
   ]
  },
  {
   "cell_type": "code",
   "execution_count": null,
   "metadata": {},
   "outputs": [],
   "source": [
    "mni_prealign_sft = convert_centroids(mni_prealign_centroids)\n",
    "visualize_centriods(mni_prealign_sft)"
   ]
  },
  {
   "cell_type": "markdown",
   "metadata": {},
   "source": [
    "#### Clusters centroids labeled by best weigheted dice coefficient"
   ]
  },
  {
   "cell_type": "code",
   "execution_count": null,
   "metadata": {},
   "outputs": [],
   "source": [
    "cluster_idxs, cluster_names = load_relabeled_clusters(BASE_DIR, DATA_DIR, MODEL_NAME, SUBJECTS, CONSENSUS)\n",
    "dice_centriods = relabled_centriods(BASE_DIR, DATA_DIR, SUBJECTS, BUNDLE_NAME, cluster_idxs, cluster_names)\n",
    "mni_dice_centriods = move_centriods_to_MNI(DATA_DIR, SUBJECTS, dice_centriods)\n",
    "mni_dice_sft = convert_centroids(mni_dice_centriods)\n",
    "visualize_centriods(mni_dice_sft)"
   ]
  },
  {
   "cell_type": "markdown",
   "metadata": {},
   "source": [
    "#### Clusters centroids labeled by munkres (maximal trace) weighted dice coefficient"
   ]
  },
  {
   "cell_type": "code",
   "execution_count": null,
   "metadata": {},
   "outputs": [],
   "source": [
    "cluster_idxs, cluster_names = load_relabeled_clusters(BASE_DIR, DATA_DIR, MODEL_NAME, SUBJECTS, CONSENSUS, algorithm='munkres')\n",
    "munkres_centriods = relabled_centriods(BASE_DIR, DATA_DIR, SUBJECTS, BUNDLE_NAME, cluster_idxs, cluster_names)\n",
    "mni_munkres_centriods = move_centriods_to_MNI(DATA_DIR, SUBJECTS, munkres_centriods)\n",
    "mni_munkres_sft = convert_centroids(mni_munkres_centriods)\n",
    "visualize_centriods(mni_munkres_sft)"
   ]
  },
  {
   "cell_type": "markdown",
   "metadata": {},
   "source": [
    "#### Cluster centroids labeled by MDF"
   ]
  },
  {
   "cell_type": "code",
   "execution_count": null,
   "metadata": {},
   "outputs": [],
   "source": [
    "cluster_idxs, cluster_names = load_relabeled_clusters(BASE_DIR, DATA_DIR, MODEL_NAME, SUBJECTS, CONSENSUS, algorithm='mdf')\n",
    "mdf_centriods = relabled_centriods(BASE_DIR, DATA_DIR, SUBJECTS, BUNDLE_NAME, cluster_idxs, cluster_names)\n",
    "mni_mdf_centriods = move_centriods_to_MNI(DATA_DIR, SUBJECTS, mdf_centriods)\n",
    "mni_mdf_sft = convert_centroids(mni_mdf_centriods)\n",
    "visualize_centriods(mni_mdf_sft)"
   ]
  },
  {
   "cell_type": "code",
   "execution_count": null,
   "metadata": {},
   "outputs": [],
   "source": []
  }
 ],
 "metadata": {
  "kernelspec": {
   "display_name": "Python 3",
   "language": "python",
   "name": "python3"
  },
  "language_info": {
   "codemirror_mode": {
    "name": "ipython",
    "version": 3
   },
   "file_extension": ".py",
   "mimetype": "text/x-python",
   "name": "python",
   "nbconvert_exporter": "python",
   "pygments_lexer": "ipython3",
   "version": "3.8.5"
  }
 },
 "nbformat": 4,
 "nbformat_minor": 4
}
